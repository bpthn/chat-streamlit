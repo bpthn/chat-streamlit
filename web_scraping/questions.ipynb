{
 "cells": [
  {
   "cell_type": "code",
   "execution_count": 1,
   "id": "2e252b88",
   "metadata": {},
   "outputs": [],
   "source": [
    "import pandas as pd\n",
    "import csv\n",
    "import json"
   ]
  },
  {
   "cell_type": "code",
   "execution_count": 3,
   "id": "d9160c0e",
   "metadata": {},
   "outputs": [],
   "source": [
    "df = pd.read_csv(\"/Users/thiradatiamklang/Desktop/iLab/faq_data_bupa&med.csv\")"
   ]
  },
  {
   "cell_type": "code",
   "execution_count": 4,
   "id": "8fbe1406",
   "metadata": {
    "scrolled": false
   },
   "outputs": [
    {
     "data": {
      "text/html": [
       "<div>\n",
       "<style scoped>\n",
       "    .dataframe tbody tr th:only-of-type {\n",
       "        vertical-align: middle;\n",
       "    }\n",
       "\n",
       "    .dataframe tbody tr th {\n",
       "        vertical-align: top;\n",
       "    }\n",
       "\n",
       "    .dataframe thead th {\n",
       "        text-align: right;\n",
       "    }\n",
       "</style>\n",
       "<table border=\"1\" class=\"dataframe\">\n",
       "  <thead>\n",
       "    <tr style=\"text-align: right;\">\n",
       "      <th></th>\n",
       "      <th>Question</th>\n",
       "      <th>Answer</th>\n",
       "      <th>Labels</th>\n",
       "    </tr>\n",
       "  </thead>\n",
       "  <tbody>\n",
       "    <tr>\n",
       "      <th>0</th>\n",
       "      <td>What is OSHC?</td>\n",
       "      <td>Overseas Student Health Cover (OSHC) is health...</td>\n",
       "      <td>Meaning</td>\n",
       "    </tr>\n",
       "    <tr>\n",
       "      <th>1</th>\n",
       "      <td>When do I need to pay, and when does my cover ...</td>\n",
       "      <td>You need to purchase Overseas Student Health C...</td>\n",
       "      <td>Buy</td>\n",
       "    </tr>\n",
       "    <tr>\n",
       "      <th>2</th>\n",
       "      <td>How do I know which start and end dates to sel...</td>\n",
       "      <td>As a student visa holder, you need an active O...</td>\n",
       "      <td>Length</td>\n",
       "    </tr>\n",
       "    <tr>\n",
       "      <th>3</th>\n",
       "      <td>What if my OSHC expires?</td>\n",
       "      <td>It’s important that you have an active OSHC po...</td>\n",
       "      <td>Expired</td>\n",
       "    </tr>\n",
       "    <tr>\n",
       "      <th>4</th>\n",
       "      <td>Can I cancel my OSHC during holidays or semest...</td>\n",
       "      <td>If you’re on a break between study periods, yo...</td>\n",
       "      <td>Cancel</td>\n",
       "    </tr>\n",
       "  </tbody>\n",
       "</table>\n",
       "</div>"
      ],
      "text/plain": [
       "                                            Question  \\\n",
       "0                                      What is OSHC?   \n",
       "1  When do I need to pay, and when does my cover ...   \n",
       "2  How do I know which start and end dates to sel...   \n",
       "3                           What if my OSHC expires?   \n",
       "4  Can I cancel my OSHC during holidays or semest...   \n",
       "\n",
       "                                              Answer   Labels  \n",
       "0  Overseas Student Health Cover (OSHC) is health...  Meaning  \n",
       "1  You need to purchase Overseas Student Health C...      Buy  \n",
       "2  As a student visa holder, you need an active O...   Length  \n",
       "3  It’s important that you have an active OSHC po...  Expired  \n",
       "4  If you’re on a break between study periods, yo...   Cancel  "
      ]
     },
     "execution_count": 4,
     "metadata": {},
     "output_type": "execute_result"
    }
   ],
   "source": [
    "df.head()"
   ]
  },
  {
   "cell_type": "code",
   "execution_count": 5,
   "id": "b11c8bed",
   "metadata": {},
   "outputs": [],
   "source": [
    "data = {}"
   ]
  },
  {
   "cell_type": "code",
   "execution_count": 8,
   "id": "e20076d2",
   "metadata": {},
   "outputs": [
    {
     "name": "stdout",
     "output_type": "stream",
     "text": [
      "JSON file created successfully!\n"
     ]
    }
   ],
   "source": [
    "# Create a list to store intents\n",
    "intents = []\n",
    "\n",
    "# Iterate through each row of the dataframe\n",
    "for index, row in df.iterrows():\n",
    "    answer = row[\"Answer\"]\n",
    "    label = row[\"Labels\"]\n",
    "    \n",
    "    # Check if the intent already exists\n",
    "    intent_exists = False\n",
    "    for intent in intents:\n",
    "        if intent[\"tag\"] == label:\n",
    "            intent[\"responses\"].append(answer)\n",
    "            intent_exists = True\n",
    "            break\n",
    "    \n",
    "    # If the intent doesn't exist, create a new one\n",
    "    if not intent_exists:\n",
    "        intents.append({\"tag\": label, \"responses\": [answer]})\n",
    "\n",
    "# Create a dictionary with the intents list\n",
    "data = {\"intents\": intents}\n",
    "\n",
    "# Write the dictionary to a JSON file\n",
    "with open(\"/Users/thiradatiamklang/Desktop/iLab/intents_Minnie.json\", \"w\") as f:\n",
    "    json.dump(data, f, indent=4)\n",
    "\n",
    "print(\"JSON file created successfully!\")\n"
   ]
  },
  {
   "cell_type": "code",
   "execution_count": null,
   "id": "00c44725",
   "metadata": {},
   "outputs": [],
   "source": []
  }
 ],
 "metadata": {
  "kernelspec": {
   "display_name": "Python 3 (ipykernel)",
   "language": "python",
   "name": "python3"
  },
  "language_info": {
   "codemirror_mode": {
    "name": "ipython",
    "version": 3
   },
   "file_extension": ".py",
   "mimetype": "text/x-python",
   "name": "python",
   "nbconvert_exporter": "python",
   "pygments_lexer": "ipython3",
   "version": "3.8.2"
  }
 },
 "nbformat": 4,
 "nbformat_minor": 5
}
